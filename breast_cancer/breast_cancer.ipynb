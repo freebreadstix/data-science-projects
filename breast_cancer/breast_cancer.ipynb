{
 "cells": [
  {
   "cell_type": "markdown",
   "metadata": {},
   "source": [
    "# Statistical Analysis of the Wisconsin Breast Cancer Dataset\n",
    "\n",
    "The Wisconsin Breast Cancer Dataset contains samples with potential Breast Cancer [from the following study](http://citeseerx.ist.psu.edu/viewdoc/download?doi=10.1.1.56.707&rep=rep1&type=pdf). According to documentaion,  \n",
    "\n",
    "\"Features are computed from a digitized image of a fine needle aspirate (FNA) of a breast mass. They describe characteristics of the cell nuclei present in the image.\"\n",
    "\n",
    "Goals of Analysis:\n",
    "1. Clean and explore the breast cancer cata\n",
    "2. Classify whether a sample has breast cancer or not based on its attributes\n",
    "\n",
    "For item 2, we plan to make a model that takes in a Sample ID corresponding to several ranked attributes and classifies the sample as benign or malignant. Therefore the input features will be the 9 descriptive characteristics and the output variable will be the class AKA the presence or absence of Breast Cancer.\n",
    "\n",
    "\n",
    "[FEATURES ADD]\n",
    "- precision recall\n",
    "- ROC curve\n",
    "- Find model errors\n",
    "---------------------------------------------------------------------\n",
    "- Imputer\n",
    "- Grid Search?\n",
    "- Ensemble?\n"
   ]
  },
  {
   "cell_type": "code",
   "execution_count": 2,
   "metadata": {},
   "outputs": [],
   "source": [
    "import pandas as pd\n",
    "import numpy as np\n",
    "import matplotlib.pyplot as plt\n",
    "import seaborn as sns\n",
    "from sklearn.model_selection import train_test_split, cross_val_score, cross_val_predict\n",
    "from sklearn.neighbors import KNeighborsClassifier\n",
    "from sklearn.svm import SVC\n",
    "from sklearn.linear_model import LogisticRegression\n",
    "from sklearn.ensemble import RandomForestClassifier\n",
    "from sklearn.metrics import accuracy_score, confusion_matrix"
   ]
  },
  {
   "cell_type": "markdown",
   "metadata": {},
   "source": [
    "## Importing the Data"
   ]
  },
  {
   "cell_type": "code",
   "execution_count": 16,
   "metadata": {},
   "outputs": [
    {
     "data": {
      "text/html": [
       "<div>\n",
       "<style scoped>\n",
       "    .dataframe tbody tr th:only-of-type {\n",
       "        vertical-align: middle;\n",
       "    }\n",
       "\n",
       "    .dataframe tbody tr th {\n",
       "        vertical-align: top;\n",
       "    }\n",
       "\n",
       "    .dataframe thead th {\n",
       "        text-align: right;\n",
       "    }\n",
       "</style>\n",
       "<table border=\"1\" class=\"dataframe\">\n",
       "  <thead>\n",
       "    <tr style=\"text-align: right;\">\n",
       "      <th></th>\n",
       "      <th>ClumpThickness</th>\n",
       "      <th>UniformCellSize</th>\n",
       "      <th>UniformCellShape</th>\n",
       "      <th>MarginalAdhesion</th>\n",
       "      <th>SingleEpiSize</th>\n",
       "      <th>BareNuclei</th>\n",
       "      <th>BlandChromatin</th>\n",
       "      <th>NormalNucleoli</th>\n",
       "      <th>Mitoses</th>\n",
       "      <th>Class</th>\n",
       "    </tr>\n",
       "    <tr>\n",
       "      <th>ID</th>\n",
       "      <th></th>\n",
       "      <th></th>\n",
       "      <th></th>\n",
       "      <th></th>\n",
       "      <th></th>\n",
       "      <th></th>\n",
       "      <th></th>\n",
       "      <th></th>\n",
       "      <th></th>\n",
       "      <th></th>\n",
       "    </tr>\n",
       "  </thead>\n",
       "  <tbody>\n",
       "    <tr>\n",
       "      <th>1000025</th>\n",
       "      <td>5</td>\n",
       "      <td>1</td>\n",
       "      <td>1</td>\n",
       "      <td>1</td>\n",
       "      <td>2</td>\n",
       "      <td>1.0</td>\n",
       "      <td>3</td>\n",
       "      <td>1</td>\n",
       "      <td>1</td>\n",
       "      <td>2</td>\n",
       "    </tr>\n",
       "    <tr>\n",
       "      <th>1002945</th>\n",
       "      <td>5</td>\n",
       "      <td>4</td>\n",
       "      <td>4</td>\n",
       "      <td>5</td>\n",
       "      <td>7</td>\n",
       "      <td>10.0</td>\n",
       "      <td>3</td>\n",
       "      <td>2</td>\n",
       "      <td>1</td>\n",
       "      <td>2</td>\n",
       "    </tr>\n",
       "    <tr>\n",
       "      <th>1015425</th>\n",
       "      <td>3</td>\n",
       "      <td>1</td>\n",
       "      <td>1</td>\n",
       "      <td>1</td>\n",
       "      <td>2</td>\n",
       "      <td>2.0</td>\n",
       "      <td>3</td>\n",
       "      <td>1</td>\n",
       "      <td>1</td>\n",
       "      <td>2</td>\n",
       "    </tr>\n",
       "    <tr>\n",
       "      <th>1016277</th>\n",
       "      <td>6</td>\n",
       "      <td>8</td>\n",
       "      <td>8</td>\n",
       "      <td>1</td>\n",
       "      <td>3</td>\n",
       "      <td>4.0</td>\n",
       "      <td>3</td>\n",
       "      <td>7</td>\n",
       "      <td>1</td>\n",
       "      <td>2</td>\n",
       "    </tr>\n",
       "    <tr>\n",
       "      <th>1017023</th>\n",
       "      <td>4</td>\n",
       "      <td>1</td>\n",
       "      <td>1</td>\n",
       "      <td>3</td>\n",
       "      <td>2</td>\n",
       "      <td>1.0</td>\n",
       "      <td>3</td>\n",
       "      <td>1</td>\n",
       "      <td>1</td>\n",
       "      <td>2</td>\n",
       "    </tr>\n",
       "  </tbody>\n",
       "</table>\n",
       "</div>"
      ],
      "text/plain": [
       "         ClumpThickness  UniformCellSize  UniformCellShape  MarginalAdhesion  \\\n",
       "ID                                                                             \n",
       "1000025               5                1                 1                 1   \n",
       "1002945               5                4                 4                 5   \n",
       "1015425               3                1                 1                 1   \n",
       "1016277               6                8                 8                 1   \n",
       "1017023               4                1                 1                 3   \n",
       "\n",
       "         SingleEpiSize  BareNuclei  BlandChromatin  NormalNucleoli  Mitoses  \\\n",
       "ID                                                                            \n",
       "1000025              2         1.0               3               1        1   \n",
       "1002945              7        10.0               3               2        1   \n",
       "1015425              2         2.0               3               1        1   \n",
       "1016277              3         4.0               3               7        1   \n",
       "1017023              2         1.0               3               1        1   \n",
       "\n",
       "         Class  \n",
       "ID              \n",
       "1000025      2  \n",
       "1002945      2  \n",
       "1015425      2  \n",
       "1016277      2  \n",
       "1017023      2  "
      ]
     },
     "execution_count": 16,
     "metadata": {},
     "output_type": "execute_result"
    }
   ],
   "source": [
    "names = ['ID', 'ClumpThickness', 'UniformCellSize', 'UniformCellShape', 'MarginalAdhesion', \n",
    "         'SingleEpiSize', 'BareNuclei', 'BlandChromatin', 'NormalNucleoli', 'Mitoses', 'Class']\n",
    "df = pd.read_csv('breast-cancer-wisconsin.data', names=names, index_col=0, na_values='?')\n",
    "df.head()"
   ]
  },
  {
   "cell_type": "markdown",
   "metadata": {},
   "source": [
    "## Missing Values"
   ]
  },
  {
   "cell_type": "code",
   "execution_count": 4,
   "metadata": {},
   "outputs": [
    {
     "data": {
      "text/plain": [
       "ClumpThickness      699\n",
       "UniformCellSize     699\n",
       "UniformCellShape    699\n",
       "MarginalAdhesion    699\n",
       "SingleEpiSize       699\n",
       "BareNuclei          683\n",
       "BlandChromatin      699\n",
       "NormalNucleoli      699\n",
       "Mitoses             699\n",
       "Class               699\n",
       "dtype: int64"
      ]
     },
     "execution_count": 4,
     "metadata": {},
     "output_type": "execute_result"
    }
   ],
   "source": [
    "df.count()"
   ]
  },
  {
   "cell_type": "markdown",
   "metadata": {},
   "source": [
    "The documentation states that there are 16 NaN values. `df.count()` shows these values are all in the \"Bare Nuclei\" attribute. We use a mean imputer to fill these values because the data has no outliers."
   ]
  },
  {
   "cell_type": "code",
   "execution_count": 5,
   "metadata": {},
   "outputs": [
    {
     "data": {
      "text/plain": [
       "ClumpThickness      699\n",
       "UniformCellSize     699\n",
       "UniformCellShape    699\n",
       "MarginalAdhesion    699\n",
       "SingleEpiSize       699\n",
       "BareNuclei          699\n",
       "BlandChromatin      699\n",
       "NormalNucleoli      699\n",
       "Mitoses             699\n",
       "Class               699\n",
       "dtype: int64"
      ]
     },
     "execution_count": 5,
     "metadata": {},
     "output_type": "execute_result"
    }
   ],
   "source": [
    "def mean_imputer(dataframe, column):\n",
    "# takes dataframe and column indexed from dataframe and replaces missing values with mean of present values\n",
    "    mean = np.mean(column)\n",
    "    column = column.fillna(mean, inplace=True)\n",
    "\n",
    "mean_imputer(df, df['BareNuclei'])\n",
    "\n",
    "df.count()"
   ]
  },
  {
   "cell_type": "markdown",
   "metadata": {},
   "source": [
    "## Features\n",
    "\n",
    "According to the attached documentation, `breast-cancer-wisconsin.names`, there are 11 features. 9 of these attributes are rated on a scale 1-10 describing qualities of a sample. The Class attribute contains the breast cancer diagnosis for a sample.\n",
    "\n",
    "   1. Sample code number            id number Nominal\n",
    "   2. Clump Thickness               1 - 10    Ordinal\n",
    "   3. Uniformity of Cell Size       1 - 10    Ordinal\n",
    "   4. Uniformity of Cell Shape      1 - 10    Ordinal\n",
    "   5. Marginal Adhesion             1 - 10    Ordinal\n",
    "   6. Single Epithelial Cell Size   1 - 10    Ordinal\n",
    "   7. Bare Nuclei                   1 - 10    Ordinal\n",
    "   8. Bland Chromatin               1 - 10    Ordinal\n",
    "   9. Normal Nucleoli               1 - 10    Ordinal\n",
    "   10. Mitoses                      1 - 10    Ordinal\n",
    "   11. Class:                        (2 for benign, 4 for malignant) Nominal\n",
    "   \n",
    "The sample code number has a nominal data type because each ID number is unique and has no order, at least in the context of our problem. The 9 descriptive attributes are ordinal data type because they have discrete integer values 1-10 however these values have order relative to eachother. The class attribute is nominal because there are two distinct categories with no ordered relation.\n",
    "\n",
    "Because the input variables are ordered but the output variable is categorical, we use a classification model to accomplish our task.\n",
    "\n",
    "All 9 input variables use the same rating scale, therefore feature scaling will not be necessary."
   ]
  },
  {
   "cell_type": "code",
   "execution_count": 6,
   "metadata": {},
   "outputs": [
    {
     "data": {
      "text/html": [
       "<div>\n",
       "<style scoped>\n",
       "    .dataframe tbody tr th:only-of-type {\n",
       "        vertical-align: middle;\n",
       "    }\n",
       "\n",
       "    .dataframe tbody tr th {\n",
       "        vertical-align: top;\n",
       "    }\n",
       "\n",
       "    .dataframe thead th {\n",
       "        text-align: right;\n",
       "    }\n",
       "</style>\n",
       "<table border=\"1\" class=\"dataframe\">\n",
       "  <thead>\n",
       "    <tr style=\"text-align: right;\">\n",
       "      <th></th>\n",
       "      <th>ClumpThickness</th>\n",
       "      <th>UniformCellSize</th>\n",
       "      <th>UniformCellShape</th>\n",
       "      <th>MarginalAdhesion</th>\n",
       "      <th>SingleEpiSize</th>\n",
       "      <th>BareNuclei</th>\n",
       "      <th>BlandChromatin</th>\n",
       "      <th>NormalNucleoli</th>\n",
       "      <th>Mitoses</th>\n",
       "      <th>Class</th>\n",
       "    </tr>\n",
       "  </thead>\n",
       "  <tbody>\n",
       "    <tr>\n",
       "      <th>count</th>\n",
       "      <td>699.000000</td>\n",
       "      <td>699.000000</td>\n",
       "      <td>699.000000</td>\n",
       "      <td>699.000000</td>\n",
       "      <td>699.000000</td>\n",
       "      <td>699.000000</td>\n",
       "      <td>699.000000</td>\n",
       "      <td>699.000000</td>\n",
       "      <td>699.000000</td>\n",
       "      <td>699.000000</td>\n",
       "    </tr>\n",
       "    <tr>\n",
       "      <th>mean</th>\n",
       "      <td>4.417740</td>\n",
       "      <td>3.134478</td>\n",
       "      <td>3.207439</td>\n",
       "      <td>2.806867</td>\n",
       "      <td>3.216023</td>\n",
       "      <td>3.544656</td>\n",
       "      <td>3.437768</td>\n",
       "      <td>2.866953</td>\n",
       "      <td>1.589413</td>\n",
       "      <td>2.689557</td>\n",
       "    </tr>\n",
       "    <tr>\n",
       "      <th>std</th>\n",
       "      <td>2.815741</td>\n",
       "      <td>3.051459</td>\n",
       "      <td>2.971913</td>\n",
       "      <td>2.855379</td>\n",
       "      <td>2.214300</td>\n",
       "      <td>3.601852</td>\n",
       "      <td>2.438364</td>\n",
       "      <td>3.053634</td>\n",
       "      <td>1.715078</td>\n",
       "      <td>0.951273</td>\n",
       "    </tr>\n",
       "    <tr>\n",
       "      <th>min</th>\n",
       "      <td>1.000000</td>\n",
       "      <td>1.000000</td>\n",
       "      <td>1.000000</td>\n",
       "      <td>1.000000</td>\n",
       "      <td>1.000000</td>\n",
       "      <td>1.000000</td>\n",
       "      <td>1.000000</td>\n",
       "      <td>1.000000</td>\n",
       "      <td>1.000000</td>\n",
       "      <td>2.000000</td>\n",
       "    </tr>\n",
       "    <tr>\n",
       "      <th>25%</th>\n",
       "      <td>2.000000</td>\n",
       "      <td>1.000000</td>\n",
       "      <td>1.000000</td>\n",
       "      <td>1.000000</td>\n",
       "      <td>2.000000</td>\n",
       "      <td>1.000000</td>\n",
       "      <td>2.000000</td>\n",
       "      <td>1.000000</td>\n",
       "      <td>1.000000</td>\n",
       "      <td>2.000000</td>\n",
       "    </tr>\n",
       "    <tr>\n",
       "      <th>50%</th>\n",
       "      <td>4.000000</td>\n",
       "      <td>1.000000</td>\n",
       "      <td>1.000000</td>\n",
       "      <td>1.000000</td>\n",
       "      <td>2.000000</td>\n",
       "      <td>1.000000</td>\n",
       "      <td>3.000000</td>\n",
       "      <td>1.000000</td>\n",
       "      <td>1.000000</td>\n",
       "      <td>2.000000</td>\n",
       "    </tr>\n",
       "    <tr>\n",
       "      <th>75%</th>\n",
       "      <td>6.000000</td>\n",
       "      <td>5.000000</td>\n",
       "      <td>5.000000</td>\n",
       "      <td>4.000000</td>\n",
       "      <td>4.000000</td>\n",
       "      <td>5.000000</td>\n",
       "      <td>5.000000</td>\n",
       "      <td>4.000000</td>\n",
       "      <td>1.000000</td>\n",
       "      <td>4.000000</td>\n",
       "    </tr>\n",
       "    <tr>\n",
       "      <th>max</th>\n",
       "      <td>10.000000</td>\n",
       "      <td>10.000000</td>\n",
       "      <td>10.000000</td>\n",
       "      <td>10.000000</td>\n",
       "      <td>10.000000</td>\n",
       "      <td>10.000000</td>\n",
       "      <td>10.000000</td>\n",
       "      <td>10.000000</td>\n",
       "      <td>10.000000</td>\n",
       "      <td>4.000000</td>\n",
       "    </tr>\n",
       "  </tbody>\n",
       "</table>\n",
       "</div>"
      ],
      "text/plain": [
       "       ClumpThickness  UniformCellSize  UniformCellShape  MarginalAdhesion  \\\n",
       "count      699.000000       699.000000        699.000000        699.000000   \n",
       "mean         4.417740         3.134478          3.207439          2.806867   \n",
       "std          2.815741         3.051459          2.971913          2.855379   \n",
       "min          1.000000         1.000000          1.000000          1.000000   \n",
       "25%          2.000000         1.000000          1.000000          1.000000   \n",
       "50%          4.000000         1.000000          1.000000          1.000000   \n",
       "75%          6.000000         5.000000          5.000000          4.000000   \n",
       "max         10.000000        10.000000         10.000000         10.000000   \n",
       "\n",
       "       SingleEpiSize  BareNuclei  BlandChromatin  NormalNucleoli     Mitoses  \\\n",
       "count     699.000000  699.000000      699.000000      699.000000  699.000000   \n",
       "mean        3.216023    3.544656        3.437768        2.866953    1.589413   \n",
       "std         2.214300    3.601852        2.438364        3.053634    1.715078   \n",
       "min         1.000000    1.000000        1.000000        1.000000    1.000000   \n",
       "25%         2.000000    1.000000        2.000000        1.000000    1.000000   \n",
       "50%         2.000000    1.000000        3.000000        1.000000    1.000000   \n",
       "75%         4.000000    5.000000        5.000000        4.000000    1.000000   \n",
       "max        10.000000   10.000000       10.000000       10.000000   10.000000   \n",
       "\n",
       "            Class  \n",
       "count  699.000000  \n",
       "mean     2.689557  \n",
       "std      0.951273  \n",
       "min      2.000000  \n",
       "25%      2.000000  \n",
       "50%      2.000000  \n",
       "75%      4.000000  \n",
       "max      4.000000  "
      ]
     },
     "execution_count": 6,
     "metadata": {},
     "output_type": "execute_result"
    }
   ],
   "source": [
    "df.describe()"
   ]
  },
  {
   "cell_type": "code",
   "execution_count": 7,
   "metadata": {},
   "outputs": [],
   "source": [
    "%matplotlib inline"
   ]
  },
  {
   "cell_type": "code",
   "execution_count": 8,
   "metadata": {},
   "outputs": [
    {
     "data": {
      "text/plain": [
       "array([[<matplotlib.axes._subplots.AxesSubplot object at 0x000001BC64B61C50>,\n",
       "        <matplotlib.axes._subplots.AxesSubplot object at 0x000001BC64DFFCF8>,\n",
       "        <matplotlib.axes._subplots.AxesSubplot object at 0x000001BC64E3D2E8>],\n",
       "       [<matplotlib.axes._subplots.AxesSubplot object at 0x000001BC64E6E898>,\n",
       "        <matplotlib.axes._subplots.AxesSubplot object at 0x000001BC64E9FE48>,\n",
       "        <matplotlib.axes._subplots.AxesSubplot object at 0x000001BC64EDF438>],\n",
       "       [<matplotlib.axes._subplots.AxesSubplot object at 0x000001BC64F0D9E8>,\n",
       "        <matplotlib.axes._subplots.AxesSubplot object at 0x000001BC64F3FFD0>,\n",
       "        <matplotlib.axes._subplots.AxesSubplot object at 0x000001BC64F4C048>]],\n",
       "      dtype=object)"
      ]
     },
     "execution_count": 8,
     "metadata": {},
     "output_type": "execute_result"
    },
    {
     "data": {
      "image/png": "[encoded data removed]",
      "text/plain": [
       "<Figure size 1440x1080 with 9 Axes>"
      ]
     },
     "metadata": {
      "needs_background": "light"
     },
     "output_type": "display_data"
    }
   ],
   "source": [
    "attributes = ['ClumpThickness', 'UniformCellSize', 'UniformCellShape', 'MarginalAdhesion', \n",
    "         'SingleEpiSize', 'BareNuclei', 'BlandChromatin', 'NormalNucleoli', 'Mitoses']\n",
    "df[attributes].hist(figsize=(20,15))"
   ]
  },
  {
   "cell_type": "markdown",
   "metadata": {},
   "source": [
    "Generally the 9 qualitative attributes are right skew with the majority of the distribution spread between ratings 1-3. The exceptions are Bland Chromatin and Clump Thickness, where the distribution is still skewed right but closer to the middle. However, all of the features have values at 1 and 10 indicating a relative scale."
   ]
  },
  {
   "cell_type": "code",
   "execution_count": 9,
   "metadata": {},
   "outputs": [
    {
     "data": {
      "text/plain": [
       "((241, 10), (458, 10))"
      ]
     },
     "execution_count": 9,
     "metadata": {},
     "output_type": "execute_result"
    }
   ],
   "source": [
    "malignant = df.where(df['Class']==4).dropna()\n",
    "benign = df.where(df['Class']==2).dropna()\n",
    "malignant.shape, benign.shape"
   ]
  },
  {
   "cell_type": "markdown",
   "metadata": {},
   "source": [
    "There are more benign than malignant samples"
   ]
  },
  {
   "cell_type": "code",
   "execution_count": 10,
   "metadata": {},
   "outputs": [
    {
     "data": {
      "image/png": "[encoded data removed]",
      "text/plain": [
       "<Figure size 1440x1440 with 9 Axes>"
      ]
     },
     "metadata": {
      "needs_background": "light"
     },
     "output_type": "display_data"
    }
   ],
   "source": [
    "index = np.arange(1, 10)\n",
    "fig = plt.figure(figsize=(20, 20))\n",
    "\n",
    "for attribute, i in zip(attributes, index):\n",
    "    ax = plt.subplot(3, 3, i)\n",
    "    plt.hist([malignant[attribute], benign[attribute]], color=['r', 'b'])\n",
    "    ax.set_title(attribute)"
   ]
  },
  {
   "cell_type": "markdown",
   "metadata": {},
   "source": [
    "We plot the ratings distributions of malignant versus benign tumors to find relationships between the two types of tumors in the attributes. For all attributes, it appears lower ratings suggest benignity while higher ratings suggest the opposite. However for all attributes except Clump Thickness and Bland Chromatin, the majority of the benign distribution is contained in one integer rating. In the context of classification, a benign tumor generally must have a low rating but a malignant tumor may have any."
   ]
  },
  {
   "cell_type": "markdown",
   "metadata": {},
   "source": [
    "# Creating and Training a Model\n",
    "\n",
    "We will test the following classification algorithms to see which models the data best:\n",
    "- K Nearest Neighbors\n",
    "- Support Vector Machines\n",
    "- Logistic Regression\n",
    "- Random Forests\n"
   ]
  },
  {
   "cell_type": "code",
   "execution_count": 11,
   "metadata": {},
   "outputs": [],
   "source": [
    "X = df.iloc[:, :9]\n",
    "y = df.iloc[:, 9]"
   ]
  },
  {
   "cell_type": "code",
   "execution_count": 17,
   "metadata": {},
   "outputs": [
    {
     "name": "stdout",
     "output_type": "stream",
     "text": [
      "0.9643356439468486 [0.92907801 0.94285714 0.98571429 0.98561151 0.97841727]\n",
      "0.947233313653029 [0.90070922 0.9        0.97142857 0.98561151 0.97841727]\n",
      "0.9615090420065163 [0.91489362 0.94285714 0.97857143 0.98561151 0.98561151]\n",
      "0.9529882719963847 [0.87943262 0.94285714 0.97142857 0.97841727 0.99280576]\n"
     ]
    },
    {
     "name": "stderr",
     "output_type": "stream",
     "text": [
      "C:\\Users\\Luke Nguyen\\Documents\\Anaconda\\lib\\site-packages\\sklearn\\svm\\base.py:193: FutureWarning: The default value of gamma will change from 'auto' to 'scale' in version 0.22 to account better for unscaled features. Set gamma explicitly to 'auto' or 'scale' to avoid this warning.\n",
      "  \"avoid this warning.\", FutureWarning)\n",
      "C:\\Users\\Luke Nguyen\\Documents\\Anaconda\\lib\\site-packages\\sklearn\\svm\\base.py:193: FutureWarning: The default value of gamma will change from 'auto' to 'scale' in version 0.22 to account better for unscaled features. Set gamma explicitly to 'auto' or 'scale' to avoid this warning.\n",
      "  \"avoid this warning.\", FutureWarning)\n",
      "C:\\Users\\Luke Nguyen\\Documents\\Anaconda\\lib\\site-packages\\sklearn\\svm\\base.py:193: FutureWarning: The default value of gamma will change from 'auto' to 'scale' in version 0.22 to account better for unscaled features. Set gamma explicitly to 'auto' or 'scale' to avoid this warning.\n",
      "  \"avoid this warning.\", FutureWarning)\n",
      "C:\\Users\\Luke Nguyen\\Documents\\Anaconda\\lib\\site-packages\\sklearn\\svm\\base.py:193: FutureWarning: The default value of gamma will change from 'auto' to 'scale' in version 0.22 to account better for unscaled features. Set gamma explicitly to 'auto' or 'scale' to avoid this warning.\n",
      "  \"avoid this warning.\", FutureWarning)\n",
      "C:\\Users\\Luke Nguyen\\Documents\\Anaconda\\lib\\site-packages\\sklearn\\svm\\base.py:193: FutureWarning: The default value of gamma will change from 'auto' to 'scale' in version 0.22 to account better for unscaled features. Set gamma explicitly to 'auto' or 'scale' to avoid this warning.\n",
      "  \"avoid this warning.\", FutureWarning)\n",
      "C:\\Users\\Luke Nguyen\\Documents\\Anaconda\\lib\\site-packages\\sklearn\\linear_model\\logistic.py:432: FutureWarning: Default solver will be changed to 'lbfgs' in 0.22. Specify a solver to silence this warning.\n",
      "  FutureWarning)\n",
      "C:\\Users\\Luke Nguyen\\Documents\\Anaconda\\lib\\site-packages\\sklearn\\linear_model\\logistic.py:432: FutureWarning: Default solver will be changed to 'lbfgs' in 0.22. Specify a solver to silence this warning.\n",
      "  FutureWarning)\n",
      "C:\\Users\\Luke Nguyen\\Documents\\Anaconda\\lib\\site-packages\\sklearn\\linear_model\\logistic.py:432: FutureWarning: Default solver will be changed to 'lbfgs' in 0.22. Specify a solver to silence this warning.\n",
      "  FutureWarning)\n",
      "C:\\Users\\Luke Nguyen\\Documents\\Anaconda\\lib\\site-packages\\sklearn\\linear_model\\logistic.py:432: FutureWarning: Default solver will be changed to 'lbfgs' in 0.22. Specify a solver to silence this warning.\n",
      "  FutureWarning)\n",
      "C:\\Users\\Luke Nguyen\\Documents\\Anaconda\\lib\\site-packages\\sklearn\\linear_model\\logistic.py:432: FutureWarning: Default solver will be changed to 'lbfgs' in 0.22. Specify a solver to silence this warning.\n",
      "  FutureWarning)\n",
      "C:\\Users\\Luke Nguyen\\Documents\\Anaconda\\lib\\site-packages\\sklearn\\ensemble\\forest.py:245: FutureWarning: The default value of n_estimators will change from 10 in version 0.20 to 100 in 0.22.\n",
      "  \"10 in version 0.20 to 100 in 0.22.\", FutureWarning)\n",
      "C:\\Users\\Luke Nguyen\\Documents\\Anaconda\\lib\\site-packages\\sklearn\\ensemble\\forest.py:245: FutureWarning: The default value of n_estimators will change from 10 in version 0.20 to 100 in 0.22.\n",
      "  \"10 in version 0.20 to 100 in 0.22.\", FutureWarning)\n",
      "C:\\Users\\Luke Nguyen\\Documents\\Anaconda\\lib\\site-packages\\sklearn\\ensemble\\forest.py:245: FutureWarning: The default value of n_estimators will change from 10 in version 0.20 to 100 in 0.22.\n",
      "  \"10 in version 0.20 to 100 in 0.22.\", FutureWarning)\n",
      "C:\\Users\\Luke Nguyen\\Documents\\Anaconda\\lib\\site-packages\\sklearn\\ensemble\\forest.py:245: FutureWarning: The default value of n_estimators will change from 10 in version 0.20 to 100 in 0.22.\n",
      "  \"10 in version 0.20 to 100 in 0.22.\", FutureWarning)\n",
      "C:\\Users\\Luke Nguyen\\Documents\\Anaconda\\lib\\site-packages\\sklearn\\ensemble\\forest.py:245: FutureWarning: The default value of n_estimators will change from 10 in version 0.20 to 100 in 0.22.\n",
      "  \"10 in version 0.20 to 100 in 0.22.\", FutureWarning)\n"
     ]
    }
   ],
   "source": [
    "KNN = KNeighborsClassifier()\n",
    "SVM = SVC()\n",
    "LogReg = LogisticRegression()\n",
    "RF = RandomForestClassifier()\n",
    "\n",
    "estimators = [KNN, SVM, LogReg, RF]\n",
    "\n",
    "for estimator in estimators:\n",
    "    scores = cross_val_score(estimator, X, y, cv=5)\n",
    "    print(np.mean(scores), scores)\n",
    "    "
   ]
  },
  {
   "cell_type": "markdown",
   "metadata": {},
   "source": [
    "Accuracy is not a good metric because the dataset is skewed, i.e. it has more benign that malignant samples."
   ]
  },
  {
   "cell_type": "code",
   "execution_count": 15,
   "metadata": {},
   "outputs": [
    {
     "name": "stderr",
     "output_type": "stream",
     "text": [
      "C:\\Users\\Luke Nguyen\\Documents\\Anaconda\\lib\\site-packages\\sklearn\\svm\\base.py:193: FutureWarning: The default value of gamma will change from 'auto' to 'scale' in version 0.22 to account better for unscaled features. Set gamma explicitly to 'auto' or 'scale' to avoid this warning.\n",
      "  \"avoid this warning.\", FutureWarning)\n",
      "C:\\Users\\Luke Nguyen\\Documents\\Anaconda\\lib\\site-packages\\sklearn\\svm\\base.py:193: FutureWarning: The default value of gamma will change from 'auto' to 'scale' in version 0.22 to account better for unscaled features. Set gamma explicitly to 'auto' or 'scale' to avoid this warning.\n",
      "  \"avoid this warning.\", FutureWarning)\n",
      "C:\\Users\\Luke Nguyen\\Documents\\Anaconda\\lib\\site-packages\\sklearn\\svm\\base.py:193: FutureWarning: The default value of gamma will change from 'auto' to 'scale' in version 0.22 to account better for unscaled features. Set gamma explicitly to 'auto' or 'scale' to avoid this warning.\n",
      "  \"avoid this warning.\", FutureWarning)\n",
      "C:\\Users\\Luke Nguyen\\Documents\\Anaconda\\lib\\site-packages\\sklearn\\svm\\base.py:193: FutureWarning: The default value of gamma will change from 'auto' to 'scale' in version 0.22 to account better for unscaled features. Set gamma explicitly to 'auto' or 'scale' to avoid this warning.\n",
      "  \"avoid this warning.\", FutureWarning)\n",
      "C:\\Users\\Luke Nguyen\\Documents\\Anaconda\\lib\\site-packages\\sklearn\\svm\\base.py:193: FutureWarning: The default value of gamma will change from 'auto' to 'scale' in version 0.22 to account better for unscaled features. Set gamma explicitly to 'auto' or 'scale' to avoid this warning.\n",
      "  \"avoid this warning.\", FutureWarning)\n",
      "C:\\Users\\Luke Nguyen\\Documents\\Anaconda\\lib\\site-packages\\sklearn\\linear_model\\logistic.py:432: FutureWarning: Default solver will be changed to 'lbfgs' in 0.22. Specify a solver to silence this warning.\n",
      "  FutureWarning)\n",
      "C:\\Users\\Luke Nguyen\\Documents\\Anaconda\\lib\\site-packages\\sklearn\\linear_model\\logistic.py:432: FutureWarning: Default solver will be changed to 'lbfgs' in 0.22. Specify a solver to silence this warning.\n",
      "  FutureWarning)\n",
      "C:\\Users\\Luke Nguyen\\Documents\\Anaconda\\lib\\site-packages\\sklearn\\linear_model\\logistic.py:432: FutureWarning: Default solver will be changed to 'lbfgs' in 0.22. Specify a solver to silence this warning.\n",
      "  FutureWarning)\n",
      "C:\\Users\\Luke Nguyen\\Documents\\Anaconda\\lib\\site-packages\\sklearn\\linear_model\\logistic.py:432: FutureWarning: Default solver will be changed to 'lbfgs' in 0.22. Specify a solver to silence this warning.\n",
      "  FutureWarning)\n",
      "C:\\Users\\Luke Nguyen\\Documents\\Anaconda\\lib\\site-packages\\sklearn\\linear_model\\logistic.py:432: FutureWarning: Default solver will be changed to 'lbfgs' in 0.22. Specify a solver to silence this warning.\n",
      "  FutureWarning)\n",
      "C:\\Users\\Luke Nguyen\\Documents\\Anaconda\\lib\\site-packages\\sklearn\\ensemble\\forest.py:245: FutureWarning: The default value of n_estimators will change from 10 in version 0.20 to 100 in 0.22.\n",
      "  \"10 in version 0.20 to 100 in 0.22.\", FutureWarning)\n",
      "C:\\Users\\Luke Nguyen\\Documents\\Anaconda\\lib\\site-packages\\sklearn\\ensemble\\forest.py:245: FutureWarning: The default value of n_estimators will change from 10 in version 0.20 to 100 in 0.22.\n",
      "  \"10 in version 0.20 to 100 in 0.22.\", FutureWarning)\n",
      "C:\\Users\\Luke Nguyen\\Documents\\Anaconda\\lib\\site-packages\\sklearn\\ensemble\\forest.py:245: FutureWarning: The default value of n_estimators will change from 10 in version 0.20 to 100 in 0.22.\n",
      "  \"10 in version 0.20 to 100 in 0.22.\", FutureWarning)\n",
      "C:\\Users\\Luke Nguyen\\Documents\\Anaconda\\lib\\site-packages\\sklearn\\ensemble\\forest.py:245: FutureWarning: The default value of n_estimators will change from 10 in version 0.20 to 100 in 0.22.\n",
      "  \"10 in version 0.20 to 100 in 0.22.\", FutureWarning)\n",
      "C:\\Users\\Luke Nguyen\\Documents\\Anaconda\\lib\\site-packages\\sklearn\\ensemble\\forest.py:245: FutureWarning: The default value of n_estimators will change from 10 in version 0.20 to 100 in 0.22.\n",
      "  \"10 in version 0.20 to 100 in 0.22.\", FutureWarning)\n"
     ]
    },
    {
     "data": {
      "image/png": "[encoded data removed]",
      "text/plain": [
       "<Figure size 1440x360 with 8 Axes>"
      ]
     },
     "metadata": {},
     "output_type": "display_data"
    }
   ],
   "source": [
    "sns.set(rc={'figure.figsize':(20, 5)})\n",
    "fig, axes = plt.subplots(1, 4)\n",
    "\n",
    "for estimator, i in zip(estimators, np.arange(4)):\n",
    "    y_pred_cv = cross_val_predict(estimator, X, y, cv=5)\n",
    "    cm = confusion_matrix(y, y_pred_cv)\n",
    "    sns.heatmap(cm, annot=True, ax=axes[i], fmt='.0f')    "
   ]
  },
  {
   "cell_type": "markdown",
   "metadata": {},
   "source": [
    "The confusion matrices suggest all of the classifiers are similarly effective, with the Support Vector Classifier being the worse. We find the F1 scores and plot the Reciever Operating Characteristic Curve to corroborate this."
   ]
  },
  {
   "cell_type": "code",
   "execution_count": null,
   "metadata": {},
   "outputs": [],
   "source": []
  }
 ],
 "metadata": {
  "kernelspec": {
   "display_name": "Python 3",
   "language": "python",
   "name": "python3"
  },
  "language_info": {
   "codemirror_mode": {
    "name": "ipython",
    "version": 3
   },
   "file_extension": ".py",
   "mimetype": "text/x-python",
   "name": "python",
   "nbconvert_exporter": "python",
   "pygments_lexer": "ipython3",
   "version": "3.7.3"
  }
 },
 "nbformat": 4,
 "nbformat_minor": 4
}
